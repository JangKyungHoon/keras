{
 "cells": [
  {
   "cell_type": "code",
   "execution_count": 1,
   "metadata": {},
   "outputs": [
    {
     "name": "stderr",
     "output_type": "stream",
     "text": [
      "c:\\program files\\python35\\lib\\site-packages\\h5py\\__init__.py:36: FutureWarning: Conversion of the second argument of issubdtype from `float` to `np.floating` is deprecated. In future, it will be treated as `np.float64 == np.dtype(float).type`.\n",
      "  from ._conv import register_converters as _register_converters\n",
      "Using TensorFlow backend.\n",
      "c:\\program files\\python35\\lib\\site-packages\\sklearn\\cross_validation.py:41: DeprecationWarning: This module was deprecated in version 0.18 in favor of the model_selection module into which all the refactored classes and functions are moved. Also note that the interface of the new CV iterators are different from that of this module. This module will be removed in 0.20.\n",
      "  \"This module will be removed in 0.20.\", DeprecationWarning)\n"
     ]
    }
   ],
   "source": [
    "import numpy as np\n",
    "import pandas as pd\n",
    "import keras\n",
    "from sklearn.preprocessing import LabelEncoder, OneHotEncoder\n",
    "from sklearn.cross_validation import train_test_split\n",
    "from keras.layers import Dense, Flatten, Dropout\n",
    "from keras.layers.convolutional import Conv1D, Conv2D, MaxPooling1D, MaxPooling2D\n",
    "from keras.models import Sequential"
   ]
  },
  {
   "cell_type": "code",
   "execution_count": 3,
   "metadata": {},
   "outputs": [],
   "source": [
    "train_df = pd.read_csv('train.csv')\n",
    "test_df = pd.read_csv('test.csv')"
   ]
  },
  {
   "cell_type": "code",
   "execution_count": 4,
   "metadata": {},
   "outputs": [],
   "source": [
    "def selectFeature(df):\n",
    "    data = df.copy()\n",
    "    \n",
    "    data['Embarked'] = data['Embarked'].fillna('C')\n",
    "    \n",
    "    sex_label = LabelEncoder().fit(data['Sex'].unique())\n",
    "    \n",
    "    data['Sex_l'] = data['Sex'].map(lambda x: sex_label.transform([x])[0])\n",
    "    \n",
    "    pclass_dummies = pd.get_dummies(data['Pclass'], 'Pclass')\n",
    "    embarked_dummies = pd.get_dummies(data['Embarked'], 'Embarked')\n",
    "    \n",
    "    data = data.join(pclass_dummies, how='inner')\n",
    "    data = data.join(embarked_dummies, how='inner')\n",
    "    \n",
    "    family_tickets = data.groupby('Ticket').filter(lambda x: len(x) > 1)['Ticket'].values\n",
    "    data['Family'] = data['Ticket'].map(lambda x: x in family_tickets).astype(int)\n",
    "    \n",
    "    data['Age_1'] = data['Age'].map(lambda x: int(x < 10.) & (x >= 0.))\n",
    "    data['Age_2'] = data['Age'].map(lambda x: int(x < 20.) & (x >= 10.))\n",
    "    data['Age_3'] = data['Age'].map(lambda x: int(x < 30.) & (x >= 20.))\n",
    "    data['Age_4'] = data['Age'].map(lambda x: int(x < 40.) & (x >= 30.))\n",
    "    data['Age_5'] = data['Age'].map(lambda x: int(x < 50.) & (x >= 40.))\n",
    "    data['Age_6'] = data['Age'].map(lambda x: int(x < 60.) & (x >= 50.))\n",
    "    data['Age_7'] = data['Age'].map(lambda x: int(x < 70.) & (x >= 60.))\n",
    "    data['Age_8'] = data['Age'].map(lambda x: int(x >= 80.))\n",
    "    \n",
    "    data = data.drop(['Ticket', 'Cabin', 'Name', 'Embarked', 'Age', 'Pclass', 'Sex', 'SibSp', 'Parch', 'Fare'], axis=1)\n",
    "    data = data.fillna(0)\n",
    "        \n",
    "    return data"
   ]
  },
  {
   "cell_type": "code",
   "execution_count": 5,
   "metadata": {},
   "outputs": [],
   "source": [
    "train = selectFeature(train_df)\n",
    "test = selectFeature(test_df)"
   ]
  },
  {
   "cell_type": "code",
   "execution_count": 6,
   "metadata": {},
   "outputs": [],
   "source": [
    "# for cnn\n",
    "X_train = np.expand_dims(train.values[:, 2:], axis=2)"
   ]
  },
  {
   "cell_type": "code",
   "execution_count": 7,
   "metadata": {},
   "outputs": [],
   "source": [
    "# for dnn\n",
    "X_train = train.values[:, 2:]"
   ]
  },
  {
   "cell_type": "code",
   "execution_count": 8,
   "metadata": {},
   "outputs": [],
   "source": [
    "Y_train = pd.get_dummies(train.Survived).values\n",
    "#X_train, X_val, Y_train, Y_val = train_test_split(X_train, Y_train, test_size=0.3, random_state=42)"
   ]
  },
  {
   "cell_type": "code",
   "execution_count": 9,
   "metadata": {},
   "outputs": [],
   "source": [
    "def cnn(x, y):\n",
    "    model = Sequential()\n",
    "    model.add(Conv1D(32, kernel_size=5, padding='same', activation='relu', input_shape=x.shape[1:]))\n",
    "    model.add(MaxPooling1D())\n",
    "    model.add(Conv1D(32, kernel_size=5, padding='same', activation='relu', kernel_regularizer=keras.regularizers.l2(0.001)))\n",
    "    model.add(MaxPooling1D())\n",
    "    model.add(Conv1D(32, kernel_size=5, padding='same', activation='relu', kernel_regularizer=keras.regularizers.l2(0.001)))\n",
    "    model.add(MaxPooling1D())\n",
    "    \n",
    "    model.add(Flatten())\n",
    "    model.add(Dense(64, activation='relu', kernel_regularizer=keras.regularizers.l2(0.001)))\n",
    "    model.add(Dropout(0.1))\n",
    "    model.add(Dense(64, activation='relu', kernel_regularizer=keras.regularizers.l2(0.001)))\n",
    "    model.add(Dropout(0.1))\n",
    "    model.add(Dense(64, activation='relu', kernel_regularizer=keras.regularizers.l2(0.001)))\n",
    "    model.add(Dropout(0.1))\n",
    "    model.add(Dense(64, activation='relu', kernel_regularizer=keras.regularizers.l2(0.001)))\n",
    "    model.add(Dropout(0.1))\n",
    "    model.add(Dense(2, activation='softmax'))\n",
    "    model.compile(optimizer=keras.optimizers.adam(lr=0.0002), loss='categorical_crossentropy', metrics=['categorical_accuracy'])\n",
    "    \n",
    "    return model"
   ]
  },
  {
   "cell_type": "code",
   "execution_count": 44,
   "metadata": {},
   "outputs": [],
   "source": [
    "def dnn(x, y):\n",
    "    model = Sequential()\n",
    "    model.add(Dense(64, activation='relu', input_shape=x.shape[1:]))\n",
    "    model.add(Dense(64, activation='relu'))\n",
    "    model.add(Dense(64, activation='relu'))\n",
    "    model.add(Dense(64, activation='relu'))\n",
    "    model.add(Dense(64, activation='relu'))\n",
    "    model.add(Dense(2, activation='softmax'))\n",
    "    model.compile(optimizer=keras.optimizers.adam(lr=0.0001), loss='categorical_crossentropy', metrics=['categorical_accuracy'])\n",
    "    \n",
    "    return model"
   ]
  },
  {
   "cell_type": "code",
   "execution_count": 45,
   "metadata": {},
   "outputs": [
    {
     "data": {
      "text/plain": [
       "((891, 16), (891, 2))"
      ]
     },
     "execution_count": 45,
     "metadata": {},
     "output_type": "execute_result"
    }
   ],
   "source": [
    "model = dnn(X_train, Y_train)\n",
    "X_train.shape, Y_train.shape"
   ]
  },
  {
   "cell_type": "code",
   "execution_count": 46,
   "metadata": {},
   "outputs": [
    {
     "name": "stdout",
     "output_type": "stream",
     "text": [
      "Train on 712 samples, validate on 179 samples\n",
      "Epoch 1/50\n",
      "712/712 [==============================] - 1s 773us/step - loss: 0.6863 - categorical_accuracy: 0.6011 - val_loss: 0.6785 - val_categorical_accuracy: 0.6536\n",
      "Epoch 2/50\n",
      "712/712 [==============================] - 0s 38us/step - loss: 0.6757 - categorical_accuracy: 0.6208 - val_loss: 0.6667 - val_categorical_accuracy: 0.6480\n",
      "Epoch 3/50\n",
      "712/712 [==============================] - 0s 39us/step - loss: 0.6653 - categorical_accuracy: 0.6208 - val_loss: 0.6530 - val_categorical_accuracy: 0.6480\n",
      "Epoch 4/50\n",
      "712/712 [==============================] - 0s 42us/step - loss: 0.6537 - categorical_accuracy: 0.6208 - val_loss: 0.6407 - val_categorical_accuracy: 0.6480\n",
      "Epoch 5/50\n",
      "712/712 [==============================] - 0s 48us/step - loss: 0.6416 - categorical_accuracy: 0.6208 - val_loss: 0.6256 - val_categorical_accuracy: 0.6480\n",
      "Epoch 6/50\n",
      "712/712 [==============================] - 0s 42us/step - loss: 0.6288 - categorical_accuracy: 0.6124 - val_loss: 0.6102 - val_categorical_accuracy: 0.6425\n",
      "Epoch 7/50\n",
      "712/712 [==============================] - 0s 35us/step - loss: 0.6172 - categorical_accuracy: 0.6096 - val_loss: 0.5972 - val_categorical_accuracy: 0.6480\n",
      "Epoch 8/50\n",
      "712/712 [==============================] - 0s 37us/step - loss: 0.6055 - categorical_accuracy: 0.6208 - val_loss: 0.5849 - val_categorical_accuracy: 0.6592\n",
      "Epoch 9/50\n",
      "712/712 [==============================] - 0s 35us/step - loss: 0.5941 - categorical_accuracy: 0.6320 - val_loss: 0.5732 - val_categorical_accuracy: 0.6648\n",
      "Epoch 10/50\n",
      "712/712 [==============================] - 0s 42us/step - loss: 0.5824 - categorical_accuracy: 0.6713 - val_loss: 0.5585 - val_categorical_accuracy: 0.7263\n",
      "Epoch 11/50\n",
      "712/712 [==============================] - 0s 48us/step - loss: 0.5675 - categorical_accuracy: 0.7233 - val_loss: 0.5455 - val_categorical_accuracy: 0.7765\n",
      "Epoch 12/50\n",
      "712/712 [==============================] - 0s 41us/step - loss: 0.5534 - categorical_accuracy: 0.7781 - val_loss: 0.5302 - val_categorical_accuracy: 0.7933\n",
      "Epoch 13/50\n",
      "712/712 [==============================] - 0s 46us/step - loss: 0.5379 - categorical_accuracy: 0.8006 - val_loss: 0.5120 - val_categorical_accuracy: 0.7877\n",
      "Epoch 14/50\n",
      "712/712 [==============================] - 0s 35us/step - loss: 0.5216 - categorical_accuracy: 0.7992 - val_loss: 0.4943 - val_categorical_accuracy: 0.8045\n",
      "Epoch 15/50\n",
      "712/712 [==============================] - 0s 35us/step - loss: 0.5055 - categorical_accuracy: 0.8132 - val_loss: 0.4801 - val_categorical_accuracy: 0.8268\n",
      "Epoch 16/50\n",
      "712/712 [==============================] - 0s 34us/step - loss: 0.4904 - categorical_accuracy: 0.8146 - val_loss: 0.4635 - val_categorical_accuracy: 0.8268\n",
      "Epoch 17/50\n",
      "712/712 [==============================] - 0s 34us/step - loss: 0.4784 - categorical_accuracy: 0.8062 - val_loss: 0.4511 - val_categorical_accuracy: 0.8156\n",
      "Epoch 18/50\n",
      "712/712 [==============================] - 0s 37us/step - loss: 0.4679 - categorical_accuracy: 0.8160 - val_loss: 0.4386 - val_categorical_accuracy: 0.8268\n",
      "Epoch 19/50\n",
      "712/712 [==============================] - 0s 38us/step - loss: 0.4591 - categorical_accuracy: 0.8090 - val_loss: 0.4286 - val_categorical_accuracy: 0.8156\n",
      "Epoch 20/50\n",
      "712/712 [==============================] - 0s 39us/step - loss: 0.4517 - categorical_accuracy: 0.8118 - val_loss: 0.4225 - val_categorical_accuracy: 0.8156\n",
      "Epoch 21/50\n",
      "712/712 [==============================] - 0s 38us/step - loss: 0.4444 - categorical_accuracy: 0.8132 - val_loss: 0.4164 - val_categorical_accuracy: 0.8212\n",
      "Epoch 22/50\n",
      "712/712 [==============================] - 0s 38us/step - loss: 0.4396 - categorical_accuracy: 0.8216 - val_loss: 0.4128 - val_categorical_accuracy: 0.7877\n",
      "Epoch 23/50\n",
      "712/712 [==============================] - 0s 35us/step - loss: 0.4344 - categorical_accuracy: 0.8244 - val_loss: 0.4095 - val_categorical_accuracy: 0.7877\n",
      "Epoch 24/50\n",
      "712/712 [==============================] - 0s 37us/step - loss: 0.4303 - categorical_accuracy: 0.8315 - val_loss: 0.4072 - val_categorical_accuracy: 0.8101\n",
      "Epoch 25/50\n",
      "712/712 [==============================] - 0s 35us/step - loss: 0.4274 - categorical_accuracy: 0.8287 - val_loss: 0.4065 - val_categorical_accuracy: 0.7877\n",
      "Epoch 26/50\n",
      "712/712 [==============================] - 0s 35us/step - loss: 0.4229 - categorical_accuracy: 0.8385 - val_loss: 0.4035 - val_categorical_accuracy: 0.7877\n",
      "Epoch 27/50\n",
      "712/712 [==============================] - 0s 34us/step - loss: 0.4200 - categorical_accuracy: 0.8272 - val_loss: 0.4014 - val_categorical_accuracy: 0.7877\n",
      "Epoch 28/50\n",
      "712/712 [==============================] - 0s 32us/step - loss: 0.4167 - categorical_accuracy: 0.8287 - val_loss: 0.4018 - val_categorical_accuracy: 0.8045\n",
      "Epoch 29/50\n",
      "712/712 [==============================] - 0s 34us/step - loss: 0.4148 - categorical_accuracy: 0.8301 - val_loss: 0.3994 - val_categorical_accuracy: 0.7989\n",
      "Epoch 30/50\n",
      "712/712 [==============================] - 0s 35us/step - loss: 0.4129 - categorical_accuracy: 0.8301 - val_loss: 0.3995 - val_categorical_accuracy: 0.7989\n",
      "Epoch 31/50\n",
      "712/712 [==============================] - 0s 37us/step - loss: 0.4118 - categorical_accuracy: 0.8287 - val_loss: 0.3966 - val_categorical_accuracy: 0.7877\n",
      "Epoch 32/50\n",
      "712/712 [==============================] - 0s 34us/step - loss: 0.4104 - categorical_accuracy: 0.8371 - val_loss: 0.3961 - val_categorical_accuracy: 0.7989\n",
      "Epoch 33/50\n",
      "712/712 [==============================] - 0s 37us/step - loss: 0.4076 - categorical_accuracy: 0.8329 - val_loss: 0.3968 - val_categorical_accuracy: 0.8045\n",
      "Epoch 34/50\n",
      "712/712 [==============================] - 0s 38us/step - loss: 0.4072 - categorical_accuracy: 0.8371 - val_loss: 0.3978 - val_categorical_accuracy: 0.8045\n",
      "Epoch 35/50\n",
      "712/712 [==============================] - 0s 34us/step - loss: 0.4048 - categorical_accuracy: 0.8385 - val_loss: 0.3969 - val_categorical_accuracy: 0.7821\n",
      "Epoch 36/50\n",
      "712/712 [==============================] - 0s 34us/step - loss: 0.4045 - categorical_accuracy: 0.8385 - val_loss: 0.3973 - val_categorical_accuracy: 0.8045\n",
      "Epoch 37/50\n",
      "712/712 [==============================] - 0s 35us/step - loss: 0.4025 - categorical_accuracy: 0.8371 - val_loss: 0.3954 - val_categorical_accuracy: 0.7877\n",
      "Epoch 38/50\n",
      "712/712 [==============================] - 0s 34us/step - loss: 0.4004 - categorical_accuracy: 0.8399 - val_loss: 0.3971 - val_categorical_accuracy: 0.8045\n",
      "Epoch 39/50\n",
      "712/712 [==============================] - 0s 35us/step - loss: 0.3994 - categorical_accuracy: 0.8413 - val_loss: 0.3975 - val_categorical_accuracy: 0.7989\n",
      "Epoch 40/50\n",
      "712/712 [==============================] - 0s 35us/step - loss: 0.3982 - categorical_accuracy: 0.8399 - val_loss: 0.3976 - val_categorical_accuracy: 0.7989\n",
      "Epoch 41/50\n",
      "712/712 [==============================] - 0s 32us/step - loss: 0.3965 - categorical_accuracy: 0.8413 - val_loss: 0.3966 - val_categorical_accuracy: 0.8045\n",
      "Epoch 42/50\n",
      "712/712 [==============================] - 0s 35us/step - loss: 0.3962 - categorical_accuracy: 0.8399 - val_loss: 0.3951 - val_categorical_accuracy: 0.7821\n",
      "Epoch 43/50\n",
      "712/712 [==============================] - 0s 34us/step - loss: 0.3958 - categorical_accuracy: 0.8399 - val_loss: 0.3971 - val_categorical_accuracy: 0.7933\n",
      "Epoch 44/50\n",
      "712/712 [==============================] - 0s 38us/step - loss: 0.3937 - categorical_accuracy: 0.8413 - val_loss: 0.3993 - val_categorical_accuracy: 0.7877\n",
      "Epoch 45/50\n",
      "712/712 [==============================] - 0s 34us/step - loss: 0.3923 - categorical_accuracy: 0.8413 - val_loss: 0.3981 - val_categorical_accuracy: 0.8045\n",
      "Epoch 46/50\n",
      "712/712 [==============================] - 0s 38us/step - loss: 0.3915 - categorical_accuracy: 0.8427 - val_loss: 0.3980 - val_categorical_accuracy: 0.7821\n",
      "Epoch 47/50\n",
      "712/712 [==============================] - 0s 34us/step - loss: 0.3906 - categorical_accuracy: 0.8455 - val_loss: 0.3993 - val_categorical_accuracy: 0.8045\n",
      "Epoch 48/50\n",
      "712/712 [==============================] - 0s 37us/step - loss: 0.3901 - categorical_accuracy: 0.8441 - val_loss: 0.4014 - val_categorical_accuracy: 0.7877\n",
      "Epoch 49/50\n",
      "712/712 [==============================] - 0s 37us/step - loss: 0.3903 - categorical_accuracy: 0.8483 - val_loss: 0.4030 - val_categorical_accuracy: 0.7821\n",
      "Epoch 50/50\n",
      "712/712 [==============================] - 0s 34us/step - loss: 0.3884 - categorical_accuracy: 0.8427 - val_loss: 0.3982 - val_categorical_accuracy: 0.8045\n"
     ]
    }
   ],
   "source": [
    "hist = model.fit(X_train, Y_train, batch_size=50, epochs=50, validation_split=0.2)"
   ]
  },
  {
   "cell_type": "code",
   "execution_count": 47,
   "metadata": {},
   "outputs": [
    {
     "data": {
      "image/png": "[encoded data removed]",
      "text/plain": [
       "<matplotlib.figure.Figure at 0x2c078748>"
      ]
     },
     "metadata": {},
     "output_type": "display_data"
    }
   ],
   "source": [
    "%matplotlib inline\n",
    "import matplotlib.pyplot as plt\n",
    "\n",
    "fig, loss_ax = plt.subplots()\n",
    "\n",
    "acc_ax = loss_ax.twinx()\n",
    "\n",
    "loss_ax.plot(hist.history['loss'], 'y', label='loss - train')\n",
    "loss_ax.plot(hist.history['val_loss'], 'r', label='loss - val')\n",
    "\n",
    "acc_ax.plot(hist.history['categorical_accuracy'], 'b', label='acc - train')\n",
    "acc_ax.plot(hist.history['val_categorical_accuracy'], 'g', label='acc - val')\n",
    "\n",
    "loss_ax.set_xlabel('epoch')\n",
    "loss_ax.set_ylabel('loss')\n",
    "acc_ax.set_ylabel('accuray')\n",
    "\n",
    "loss_ax.legend(loc='center')\n",
    "acc_ax.legend(loc='center right')\n",
    "\n",
    "plt.show()"
   ]
  },
  {
   "cell_type": "code",
   "execution_count": 13,
   "metadata": {},
   "outputs": [],
   "source": [
    "submission = pd.DataFrame({\n",
    "    'PassengerId': test['PassengerId'],\n",
    "    #'Survived': model.predict_classes(np.expand_dims(test.values[:, 1:], axis=2)).flatten()\n",
    "    'Survived': model.predict_classes(test.values[:, 1:]).flatten()\n",
    "})"
   ]
  },
  {
   "cell_type": "code",
   "execution_count": 14,
   "metadata": {},
   "outputs": [],
   "source": [
    "submission.to_csv('lr_submission.csv', index=False)"
   ]
  }
 ],
 "metadata": {
  "kernelspec": {
   "display_name": "Python 3",
   "language": "python",
   "name": "python3"
  },
  "language_info": {
   "codemirror_mode": {
    "name": "ipython",
    "version": 3
   },
   "file_extension": ".py",
   "mimetype": "text/x-python",
   "name": "python",
   "nbconvert_exporter": "python",
   "pygments_lexer": "ipython3",
   "version": "3.5.2"
  }
 },
 "nbformat": 4,
 "nbformat_minor": 2
}
